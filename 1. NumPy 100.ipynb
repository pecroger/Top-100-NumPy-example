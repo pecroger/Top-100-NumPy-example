{
 "cells": [
  {
   "cell_type": "markdown",
   "metadata": {},
   "source": [
    "# Top 100 NumPy Questions for Interview"
   ]
  },
  {
   "cell_type": "markdown",
   "metadata": {},
   "source": [
    "For this Notebook, we are here to try 100 NumPy questions"
   ]
  },
  {
   "cell_type": "code",
   "execution_count": 71,
   "metadata": {},
   "outputs": [],
   "source": [
    "#1 Import NumPy as np\n",
    "import numpy as np"
   ]
  },
  {
   "cell_type": "code",
   "execution_count": 5,
   "metadata": {},
   "outputs": [
    {
     "name": "stdout",
     "output_type": "stream",
     "text": [
      "1.18.1\n",
      "blas_mkl_info:\n",
      "    libraries = ['mkl_rt', 'pthread']\n",
      "    library_dirs = ['/Users/rogerli/opt/anaconda3/lib']\n",
      "    define_macros = [('SCIPY_MKL_H', None), ('HAVE_CBLAS', None)]\n",
      "    include_dirs = ['/Users/rogerli/opt/anaconda3/include']\n",
      "blas_opt_info:\n",
      "    libraries = ['mkl_rt', 'pthread']\n",
      "    library_dirs = ['/Users/rogerli/opt/anaconda3/lib']\n",
      "    define_macros = [('SCIPY_MKL_H', None), ('HAVE_CBLAS', None)]\n",
      "    include_dirs = ['/Users/rogerli/opt/anaconda3/include']\n",
      "lapack_mkl_info:\n",
      "    libraries = ['mkl_rt', 'pthread']\n",
      "    library_dirs = ['/Users/rogerli/opt/anaconda3/lib']\n",
      "    define_macros = [('SCIPY_MKL_H', None), ('HAVE_CBLAS', None)]\n",
      "    include_dirs = ['/Users/rogerli/opt/anaconda3/include']\n",
      "lapack_opt_info:\n",
      "    libraries = ['mkl_rt', 'pthread']\n",
      "    library_dirs = ['/Users/rogerli/opt/anaconda3/lib']\n",
      "    define_macros = [('SCIPY_MKL_H', None), ('HAVE_CBLAS', None)]\n",
      "    include_dirs = ['/Users/rogerli/opt/anaconda3/include']\n"
     ]
    }
   ],
   "source": [
    "#2 Print out the version of NumPy and show the config\n",
    "print(np.__version__)\n",
    "np.show_config()"
   ]
  },
  {
   "cell_type": "code",
   "execution_count": 6,
   "metadata": {},
   "outputs": [
    {
     "name": "stdout",
     "output_type": "stream",
     "text": [
      "[0. 0. 0. 0. 0. 0. 0. 0. 0. 0.]\n"
     ]
    }
   ],
   "source": [
    "#3 Setup an empty array, and length is 10\n",
    "X = np.zeros(10)\n",
    "print(X)"
   ]
  },
  {
   "cell_type": "code",
   "execution_count": 11,
   "metadata": {},
   "outputs": [
    {
     "name": "stdout",
     "output_type": "stream",
     "text": [
      "[1 2 3 4 5 6 7 8 9]\n",
      "72 bytes\n"
     ]
    }
   ],
   "source": [
    "#4 Find the memory size of any array\n",
    "X = np.array([1,2,3,4,5,6,7,8,9])\n",
    "print(X)\n",
    "print(\"%d bytes\"%(X.size * X.itemsize))"
   ]
  },
  {
   "cell_type": "code",
   "execution_count": 12,
   "metadata": {},
   "outputs": [
    {
     "name": "stdout",
     "output_type": "stream",
     "text": [
      "add(x1, x2, /, out=None, *, where=True, casting='same_kind', order='K', dtype=None, subok=True[, signature, extobj])\n",
      "\n",
      "Add arguments element-wise.\n",
      "\n",
      "Parameters\n",
      "----------\n",
      "x1, x2 : array_like\n",
      "    The arrays to be added. If ``x1.shape != x2.shape``, they must be broadcastable to a common shape (which becomes the shape of the output).\n",
      "out : ndarray, None, or tuple of ndarray and None, optional\n",
      "    A location into which the result is stored. If provided, it must have\n",
      "    a shape that the inputs broadcast to. If not provided or None,\n",
      "    a freshly-allocated array is returned. A tuple (possible only as a\n",
      "    keyword argument) must have length equal to the number of outputs.\n",
      "where : array_like, optional\n",
      "    This condition is broadcast over the input. At locations where the\n",
      "    condition is True, the `out` array will be set to the ufunc result.\n",
      "    Elsewhere, the `out` array will retain its original value.\n",
      "    Note that if an uninitialized `out` array is created via the default\n",
      "    ``out=None``, locations within it where the condition is False will\n",
      "    remain uninitialized.\n",
      "**kwargs\n",
      "    For other keyword-only arguments, see the\n",
      "    :ref:`ufunc docs <ufuncs.kwargs>`.\n",
      "\n",
      "Returns\n",
      "-------\n",
      "add : ndarray or scalar\n",
      "    The sum of `x1` and `x2`, element-wise.\n",
      "    This is a scalar if both `x1` and `x2` are scalars.\n",
      "\n",
      "Notes\n",
      "-----\n",
      "Equivalent to `x1` + `x2` in terms of array broadcasting.\n",
      "\n",
      "Examples\n",
      "--------\n",
      ">>> np.add(1.0, 4.0)\n",
      "5.0\n",
      ">>> x1 = np.arange(9.0).reshape((3, 3))\n",
      ">>> x2 = np.arange(3.0)\n",
      ">>> np.add(x1, x2)\n",
      "array([[  0.,   2.,   4.],\n",
      "       [  3.,   5.,   7.],\n",
      "       [  6.,   8.,  10.]])\n"
     ]
    }
   ],
   "source": [
    "#5 Get the info of add()\n",
    "np.info(np.add)"
   ]
  },
  {
   "cell_type": "code",
   "execution_count": 13,
   "metadata": {},
   "outputs": [
    {
     "name": "stdout",
     "output_type": "stream",
     "text": [
      "[0. 0. 0. 0. 1. 0. 0. 0. 0. 0.]\n"
     ]
    }
   ],
   "source": [
    "#6 Make an empty array length is 10, 5th value is 1.\n",
    "X = np.zeros(10)\n",
    "X[4] = 1\n",
    "print(X)"
   ]
  },
  {
   "cell_type": "code",
   "execution_count": 14,
   "metadata": {},
   "outputs": [
    {
     "name": "stdout",
     "output_type": "stream",
     "text": [
      "[10 11 12 13 14 15 16 17 18 19 20 21 22 23 24 25 26 27 28 29 30 31 32 33\n",
      " 34 35 36 37 38 39 40 41 42 43 44 45 46 47 48 49]\n"
     ]
    }
   ],
   "source": [
    "#7 Make an array from 10 to 49\n",
    "X = np.arange(10,50)\n",
    "print(X)"
   ]
  },
  {
   "cell_type": "code",
   "execution_count": 16,
   "metadata": {},
   "outputs": [
    {
     "name": "stdout",
     "output_type": "stream",
     "text": [
      "[9 8 7 6 5 4 3 2 1 0]\n"
     ]
    }
   ],
   "source": [
    "#8 Inverse an array\n",
    "X = np.arange(10)\n",
    "X = X[::-1]\n",
    "print(X)"
   ]
  },
  {
   "cell_type": "code",
   "execution_count": 17,
   "metadata": {},
   "outputs": [
    {
     "name": "stdout",
     "output_type": "stream",
     "text": [
      "[[0 1 2]\n",
      " [3 4 5]\n",
      " [6 7 8]]\n"
     ]
    }
   ],
   "source": [
    "#9 Setup a 3 by 3 matrix, values from 0 to 8\n",
    "Z = np.arange(9).reshape(3,3)\n",
    "print(Z)"
   ]
  },
  {
   "cell_type": "code",
   "execution_count": 26,
   "metadata": {},
   "outputs": [
    {
     "name": "stdout",
     "output_type": "stream",
     "text": [
      "(array([0, 1, 4]),)\n"
     ]
    }
   ],
   "source": [
    "#10 Located the Non-Zero values\n",
    "X = np.array([1,2,0,0,4,0])\n",
    "Y = np.nonzero(X)\n",
    "print(Y)"
   ]
  },
  {
   "cell_type": "code",
   "execution_count": 27,
   "metadata": {},
   "outputs": [
    {
     "name": "stdout",
     "output_type": "stream",
     "text": [
      "[[1. 0. 0.]\n",
      " [0. 1. 0.]\n",
      " [0. 0. 1.]]\n"
     ]
    }
   ],
   "source": [
    "#11 Make a 3 by 3 matrix\n",
    "X = np.eye(3)\n",
    "print(X)"
   ]
  },
  {
   "cell_type": "code",
   "execution_count": 28,
   "metadata": {},
   "outputs": [
    {
     "name": "stdout",
     "output_type": "stream",
     "text": [
      "[[[0.6556669  0.29526034 0.77251472]\n",
      "  [0.1230537  0.96619917 0.9558856 ]\n",
      "  [0.46248849 0.21296965 0.09395673]]\n",
      "\n",
      " [[0.92109392 0.87068119 0.07958919]\n",
      "  [0.40688697 0.78798195 0.04745252]\n",
      "  [0.72343362 0.23854727 0.70331933]]\n",
      "\n",
      " [[0.13720191 0.39784123 0.32217638]\n",
      "  [0.77372954 0.92511799 0.20198996]\n",
      "  [0.5013471  0.33100523 0.22213624]]]\n"
     ]
    }
   ],
   "source": [
    "#12 Make a random 3 by 3 by 3 array\n",
    "X = np.random.random((3,3,3))\n",
    "print(X)"
   ]
  },
  {
   "cell_type": "code",
   "execution_count": 31,
   "metadata": {},
   "outputs": [
    {
     "name": "stdout",
     "output_type": "stream",
     "text": [
      "0.006861908512894921\n",
      "0.9841032499229628\n"
     ]
    }
   ],
   "source": [
    "#13 Make a 10 by 10 random array then find the maximum and minimum values\n",
    "X = np.random.random((10,10))\n",
    "print(X.min())\n",
    "print(X.max())\n"
   ]
  },
  {
   "cell_type": "code",
   "execution_count": 38,
   "metadata": {},
   "outputs": [
    {
     "name": "stdout",
     "output_type": "stream",
     "text": [
      "0.4710356476346941\n"
     ]
    }
   ],
   "source": [
    "#14 Create a random array with length 30, then find the mean\n",
    "X = np.random.random((30))\n",
    "Xmean = np.mean(X)\n",
    "print(Xmean)"
   ]
  },
  {
   "cell_type": "code",
   "execution_count": 42,
   "metadata": {},
   "outputs": [
    {
     "name": "stdout",
     "output_type": "stream",
     "text": [
      "[[0. 0. 0. 0. 0. 0. 0. 0. 0. 0.]\n",
      " [0. 1. 1. 1. 1. 1. 1. 1. 1. 0.]\n",
      " [0. 1. 1. 1. 1. 1. 1. 1. 1. 0.]\n",
      " [0. 1. 1. 1. 1. 1. 1. 1. 1. 0.]\n",
      " [0. 1. 1. 1. 1. 1. 1. 1. 1. 0.]\n",
      " [0. 1. 1. 1. 1. 1. 1. 1. 1. 0.]\n",
      " [0. 1. 1. 1. 1. 1. 1. 1. 1. 0.]\n",
      " [0. 1. 1. 1. 1. 1. 1. 1. 1. 0.]\n",
      " [0. 1. 1. 1. 1. 1. 1. 1. 1. 0.]\n",
      " [0. 0. 0. 0. 0. 0. 0. 0. 0. 0.]]\n",
      "[[1. 1. 1. 1. 1. 1. 1. 1. 1. 1.]\n",
      " [1. 0. 0. 0. 0. 0. 0. 0. 0. 1.]\n",
      " [1. 0. 0. 0. 0. 0. 0. 0. 0. 1.]\n",
      " [1. 0. 0. 0. 0. 0. 0. 0. 0. 1.]\n",
      " [1. 0. 0. 0. 0. 0. 0. 0. 0. 1.]\n",
      " [1. 0. 0. 0. 0. 0. 0. 0. 0. 1.]\n",
      " [1. 0. 0. 0. 0. 0. 0. 0. 0. 1.]\n",
      " [1. 0. 0. 0. 0. 0. 0. 0. 0. 1.]\n",
      " [1. 0. 0. 0. 0. 0. 0. 0. 0. 1.]\n",
      " [1. 1. 1. 1. 1. 1. 1. 1. 1. 1.]]\n"
     ]
    }
   ],
   "source": [
    "#15 Create a 2D array, make the edge equals to 1, others are 0\n",
    "X = np.zeros((10,10))\n",
    "Y = np.ones((10,10))\n",
    "X[1:-1,1:-1] = 1\n",
    "Y[1:-1,1:-1] = 0\n",
    "print(X)\n",
    "print(Y)"
   ]
  },
  {
   "cell_type": "code",
   "execution_count": 43,
   "metadata": {},
   "outputs": [
    {
     "name": "stdout",
     "output_type": "stream",
     "text": [
      "[[0. 0. 0. 0. 0. 0. 0.]\n",
      " [0. 1. 1. 1. 1. 1. 0.]\n",
      " [0. 1. 1. 1. 1. 1. 0.]\n",
      " [0. 1. 1. 1. 1. 1. 0.]\n",
      " [0. 1. 1. 1. 1. 1. 0.]\n",
      " [0. 1. 1. 1. 1. 1. 0.]\n",
      " [0. 0. 0. 0. 0. 0. 0.]]\n"
     ]
    }
   ],
   "source": [
    "#16 Make the edges are 0\n",
    "X = np.ones((5,5))\n",
    "X = np.pad(X, pad_width=1, mode='constant', constant_values = 0)\n",
    "print(X)"
   ]
  },
  {
   "cell_type": "code",
   "execution_count": 51,
   "metadata": {},
   "outputs": [
    {
     "name": "stdout",
     "output_type": "stream",
     "text": [
      "nan\n",
      "False\n",
      "False\n",
      "nan\n",
      "False\n"
     ]
    }
   ],
   "source": [
    "#17 What are the results\n",
    "print(0*np.nan)\n",
    "print(np.nan==np.nan)\n",
    "print(np.inf>np.nan)\n",
    "print(np.nan-np.nan)\n",
    "print(0.3 == 3*0.1)\n"
   ]
  },
  {
   "cell_type": "code",
   "execution_count": 53,
   "metadata": {},
   "outputs": [
    {
     "name": "stdout",
     "output_type": "stream",
     "text": [
      "[[0 0 0 0 0]\n",
      " [1 0 0 0 0]\n",
      " [0 2 0 0 0]\n",
      " [0 0 3 0 0]\n",
      " [0 0 0 4 0]]\n"
     ]
    }
   ],
   "source": [
    "#18 Create a 5 by 5 matrix, set value 1,2,3,4 under the diagonal\n",
    "X = np.diag(1+np.arange(4), k=-1)\n",
    "print(X)"
   ]
  },
  {
   "cell_type": "code",
   "execution_count": 57,
   "metadata": {},
   "outputs": [
    {
     "data": {
      "text/plain": [
       "array([[0, 1, 0, 1, 0, 1, 0, 1],\n",
       "       [1, 0, 1, 0, 1, 0, 1, 0],\n",
       "       [0, 1, 0, 1, 0, 1, 0, 1],\n",
       "       [1, 0, 1, 0, 1, 0, 1, 0],\n",
       "       [0, 1, 0, 1, 0, 1, 0, 1],\n",
       "       [1, 0, 1, 0, 1, 0, 1, 0],\n",
       "       [0, 1, 0, 1, 0, 1, 0, 1],\n",
       "       [1, 0, 1, 0, 1, 0, 1, 0]])"
      ]
     },
     "execution_count": 57,
     "metadata": {},
     "output_type": "execute_result"
    }
   ],
   "source": [
    "#19 Create a 8 by 8 matrix, set it into chessboard\n",
    "X = np.zeros((8,8), dtype = int)\n",
    "X[1::2,::2] = 1\n",
    "X[::2,1::2] = 1\n",
    "X"
   ]
  },
  {
   "cell_type": "code",
   "execution_count": 70,
   "metadata": {},
   "outputs": [
    {
     "name": "stdout",
     "output_type": "stream",
     "text": [
      "[1 2 3 4 5]\n",
      "[2 3]\n",
      "[1 2 3]\n",
      "[3 4 5]\n",
      "[1 2 3 4 5]\n",
      "[1 3 5]\n",
      "[2 3]\n",
      "[5 4 3 2 1]\n"
     ]
    }
   ],
   "source": [
    "#Special\n",
    "# How does the : working in array\n",
    "# 1st, create a array a = [1,2,3,4,5]\n",
    "a = np.array([1,2,3,4,5])\n",
    "print(a)\n",
    "# If b=a[i:j], then copy a from i to j-1\n",
    "b = a[1:3]\n",
    "print(b)\n",
    "\n",
    "# If i is empty, then i goes 0\n",
    "print(a[:3])\n",
    "\n",
    "# If j is empty, then j goes len(a)\n",
    "print(a[2:])\n",
    "\n",
    "# If i,j both empty, then copy a[]\n",
    "print(a[:])\n",
    "\n",
    "# If b = a[i:j:s], means copy a from i to j-1, step is s\n",
    "print(a[0:5:2])\n",
    "\n",
    "# If s is empty, then s=1\n",
    "print(a[1:3:])\n",
    "\n",
    "# If s<0, and i is empty then i goes -1\n",
    "# and j is empty then j goes -len(a)-1\n",
    "# So, if s is smaller than 1, then inverse the array a.\n",
    "print(a[::-1])"
   ]
  },
  {
   "cell_type": "code",
   "execution_count": 75,
   "metadata": {},
   "outputs": [
    {
     "name": "stdout",
     "output_type": "stream",
     "text": [
      "(1, 5, 4)\n"
     ]
    }
   ],
   "source": [
    "#20 Think of a shape (6,7,8) array, show the index(x,y,z) at 100th element.\n",
    "print(np.unravel_index(100,(6,7,8)))"
   ]
  },
  {
   "cell_type": "code",
   "execution_count": 80,
   "metadata": {},
   "outputs": [],
   "source": [
    "# Tips: \n",
    "# 1. For example: index is scalar, the matrix shape is 6*7*8\n",
    "# then the position of the 100th index\n",
    "# 100/(7*8)=1\n",
    "# (100-1*7*8)/8 = 5\n",
    "# (100-1*7*8-5*8)=4\n",
    "# So the 100th index is array(1,5,4)"
   ]
  },
  {
   "cell_type": "code",
   "execution_count": 3,
   "metadata": {},
   "outputs": [
    {
     "name": "stdout",
     "output_type": "stream",
     "text": [
      "[[0 1 0 1 0 1 0 1]\n",
      " [1 0 1 0 1 0 1 0]\n",
      " [0 1 0 1 0 1 0 1]\n",
      " [1 0 1 0 1 0 1 0]\n",
      " [0 1 0 1 0 1 0 1]\n",
      " [1 0 1 0 1 0 1 0]\n",
      " [0 1 0 1 0 1 0 1]\n",
      " [1 0 1 0 1 0 1 0]]\n"
     ]
    }
   ],
   "source": [
    "#21 Using commend tile to create a 8 by 8 chessboard matrix.\n",
    "X = np.tile(np.array([[0,1],[1,0]]),(4,4))\n",
    "print(X)"
   ]
  },
  {
   "cell_type": "code",
   "execution_count": 4,
   "metadata": {},
   "outputs": [],
   "source": [
    "# Tips: First create an array as 0,1 1,0 then using tile()to copy and paste through X and Y\n",
    "# For example, np.array(a,2) two times bigger of X direction\n",
    "# np.array(a,(3,4)) three times and four times bigger of Y and X direction.(np.array(a,(Y,X)))\n",
    "# np.array(a,(2,1)) two times bigger of Y and one time on X so X is constant only go for Y."
   ]
  },
  {
   "cell_type": "code",
   "execution_count": 9,
   "metadata": {},
   "outputs": [
    {
     "name": "stdout",
     "output_type": "stream",
     "text": [
      "[[0.41701623 0.79378385 0.63112238 0.55775631 0.30859455]\n",
      " [0.18353783 0.77066539 0.75646891 0.83201569 0.62343622]\n",
      " [0.95096187 0.2241506  0.79454362 0.73701166 0.35524778]\n",
      " [0.52964466 0.52419236 0.41638379 0.55695933 1.        ]\n",
      " [0.44286487 0.28488848 0.16921225 0.         0.46292526]]\n"
     ]
    }
   ],
   "source": [
    "#22 5 by 5 matrix normalization.\n",
    "X = np.random.random((5,5))\n",
    "Xmax,Xmin = X.max(),X.min()\n",
    "X = (X-Xmin)/(Xmax-Xmin)\n",
    "print(X)"
   ]
  },
  {
   "cell_type": "code",
   "execution_count": 10,
   "metadata": {},
   "outputs": [],
   "source": [
    "#Tips: For matrix normalization, the equation is \n",
    "# New_value = (value - value_min)/(value_max-value_min)"
   ]
  },
  {
   "cell_type": "code",
   "execution_count": 13,
   "metadata": {},
   "outputs": [
    {
     "name": "stderr",
     "output_type": "stream",
     "text": [
      "/Users/rogerli/opt/anaconda3/lib/python3.7/site-packages/ipykernel_launcher.py:5: FutureWarning: Passing (type, 1) or '1type' as a synonym of type is deprecated; in a future version of numpy, it will be understood as (type, (1,)) / '(1,)type'.\n",
      "  \"\"\"\n"
     ]
    },
    {
     "data": {
      "text/plain": [
       "dtype([('r', 'u1'), ('g', 'u1'), ('b', 'u1'), ('a', 'u1')])"
      ]
     },
     "execution_count": 13,
     "metadata": {},
     "output_type": "execute_result"
    }
   ],
   "source": [
    "#23 Create four signed char which are for color(RGBA)\n",
    "X = np.dtype([(\"r\",np.ubyte,1),\n",
    "            (\"g\",np.ubyte,1),\n",
    "            (\"b\",np.ubyte,1),\n",
    "            (\"a\",np.ubyte,1)])\n",
    "X"
   ]
  },
  {
   "cell_type": "code",
   "execution_count": 14,
   "metadata": {},
   "outputs": [],
   "source": [
    "#Tips, For numpy ubyte as same as unsigned char in C.\n",
    "# For Chinese Tutorial https://www.osgeo.cn/numpy/user/basics.types.html\n",
    "# Shows the NumPy data type."
   ]
  },
  {
   "cell_type": "code",
   "execution_count": 21,
   "metadata": {},
   "outputs": [
    {
     "data": {
      "text/plain": [
       "array([[3., 3.],\n",
       "       [3., 3.],\n",
       "       [3., 3.],\n",
       "       [3., 3.],\n",
       "       [3., 3.]])"
      ]
     },
     "execution_count": 21,
     "metadata": {},
     "output_type": "execute_result"
    }
   ],
   "source": [
    "#24 Show the result of 5*3 times 3*2 matrix\n",
    "X = np.dot(np.ones((5,3)), np.ones((3,2)))\n",
    "X"
   ]
  },
  {
   "cell_type": "code",
   "execution_count": 26,
   "metadata": {},
   "outputs": [
    {
     "name": "stdout",
     "output_type": "stream",
     "text": [
      "[ 0  1  2  3 -4 -5 -6 -7  8  9 10]\n"
     ]
    }
   ],
   "source": [
    "#25 Inverse the values in an array which between 3 and 8\n",
    "X = np.arange(11)\n",
    "X[(3<X) & (X<8)]*=-1\n",
    "print(X)"
   ]
  },
  {
   "cell_type": "code",
   "execution_count": 27,
   "metadata": {},
   "outputs": [],
   "source": [
    "#Tips: The difference between list, arange, range, and array\n",
    "#1 list(), this is a inner Python function, the values in the list are not have to be the same type. All values\n",
    "# skipped with \",\".\n",
    "#2 array(), same as the list(), but the dtype should be the same.\n",
    "#3 range(), it's called range([start, stop, step]) it's doesn't contains the stop, and dtype is 'int'.\n",
    "#4 arange(), it's called arange([start, stop, step)) it's doesn't contains the stop can use dtype 'float'.\n",
    "# More details shows in tutorial: https://blog.csdn.net/bll1992/article/details/86437048"
   ]
  },
  {
   "cell_type": "code",
   "execution_count": 28,
   "metadata": {},
   "outputs": [
    {
     "name": "stdout",
     "output_type": "stream",
     "text": [
      "9\n"
     ]
    }
   ],
   "source": [
    "#26 Shows the results below:\n",
    "print(sum(range(5),-1))\n"
   ]
  },
  {
   "cell_type": "code",
   "execution_count": 31,
   "metadata": {},
   "outputs": [],
   "source": [
    "#Tips: For sum((iterable)[,start]), iterable means the target as array list or values, start means to add the \n",
    "# value after the sum operations. \n",
    "# Id start is empty, defualt value is 0.\n",
    "#https://www.runoob.com/python/python-func-sum.html"
   ]
  },
  {
   "cell_type": "code",
   "execution_count": 42,
   "metadata": {},
   "outputs": [
    {
     "name": "stdout",
     "output_type": "stream",
     "text": [
      "[  1   1   4  27 256]\n",
      "[0 1 2 4 8]\n",
      "[False False False False False]\n",
      "[0.+0.j 0.+1.j 0.+2.j 0.+3.j 0.+4.j]\n",
      "[0. 1. 2. 3. 4.]\n"
     ]
    },
    {
     "ename": "ValueError",
     "evalue": "The truth value of an array with more than one element is ambiguous. Use a.any() or a.all()",
     "output_type": "error",
     "traceback": [
      "\u001b[0;31m---------------------------------------------------------------------------\u001b[0m",
      "\u001b[0;31mValueError\u001b[0m                                Traceback (most recent call last)",
      "\u001b[0;32m<ipython-input-42-35c4944001b6>\u001b[0m in \u001b[0;36m<module>\u001b[0;34m\u001b[0m\n\u001b[1;32m      6\u001b[0m \u001b[0mprint\u001b[0m\u001b[0;34m(\u001b[0m\u001b[0;36m1j\u001b[0m\u001b[0;34m*\u001b[0m\u001b[0mX\u001b[0m\u001b[0;34m)\u001b[0m\u001b[0;34m\u001b[0m\u001b[0;34m\u001b[0m\u001b[0m\n\u001b[1;32m      7\u001b[0m \u001b[0mprint\u001b[0m\u001b[0;34m(\u001b[0m\u001b[0mX\u001b[0m\u001b[0;34m/\u001b[0m\u001b[0;36m1\u001b[0m\u001b[0;34m/\u001b[0m\u001b[0;36m1\u001b[0m\u001b[0;34m)\u001b[0m\u001b[0;34m\u001b[0m\u001b[0;34m\u001b[0m\u001b[0m\n\u001b[0;32m----> 8\u001b[0;31m \u001b[0mprint\u001b[0m\u001b[0;34m(\u001b[0m\u001b[0mX\u001b[0m\u001b[0;34m<\u001b[0m\u001b[0mX\u001b[0m\u001b[0;34m>\u001b[0m\u001b[0mX\u001b[0m\u001b[0;34m)\u001b[0m\u001b[0;34m\u001b[0m\u001b[0;34m\u001b[0m\u001b[0m\n\u001b[0m",
      "\u001b[0;31mValueError\u001b[0m: The truth value of an array with more than one element is ambiguous. Use a.any() or a.all()"
     ]
    }
   ],
   "source": [
    "#27, Think of a int array Z, which one is valid.\n",
    "X = np.arange(5)\n",
    "print(X**X)\n",
    "print(2<<X>>2)\n",
    "print(X<-X)\n",
    "print(1j*X)\n",
    "print(X/1/1)\n",
    "print(X<X>X)"
   ]
  },
  {
   "cell_type": "code",
   "execution_count": 44,
   "metadata": {},
   "outputs": [],
   "source": [
    "#Tips, function << and >> means to shift the binary left and right,\n",
    "# For example, \n",
    "# 1. 45<<1, means the binary of 45: 101101 shift left \"1\".\n",
    "# then we get 1011010, convert it to decimal system. The result is 90.\n",
    "# 2. 60>>2, means shift right two position.\n",
    "# For binary 111100 >> 2, then we got 001111.\n",
    "# So, the result is 15.\n",
    "# More details: https://www.imooc.com/wenda/detail/572876"
   ]
  },
  {
   "cell_type": "code",
   "execution_count": 46,
   "metadata": {},
   "outputs": [
    {
     "name": "stdout",
     "output_type": "stream",
     "text": [
      "nan\n",
      "0\n",
      "[-9.22337204e+18]\n"
     ]
    },
    {
     "name": "stderr",
     "output_type": "stream",
     "text": [
      "/Users/rogerli/opt/anaconda3/lib/python3.7/site-packages/ipykernel_launcher.py:2: RuntimeWarning: invalid value encountered in true_divide\n",
      "  \n",
      "/Users/rogerli/opt/anaconda3/lib/python3.7/site-packages/ipykernel_launcher.py:3: RuntimeWarning: divide by zero encountered in floor_divide\n",
      "  This is separate from the ipykernel package so we can avoid doing imports until\n"
     ]
    }
   ],
   "source": [
    "#28, Show the results:\n",
    "print(np.array(0)/np.array(0))\n",
    "print(np.array(0)//np.array(0))\n",
    "print(np.array([np.nan]).astype(int).astype(float))"
   ]
  },
  {
   "cell_type": "code",
   "execution_count": 63,
   "metadata": {},
   "outputs": [
    {
     "name": "stdout",
     "output_type": "stream",
     "text": [
      "1 2 3\n",
      "(6,) (2, 3) (2, 2, 3)\n",
      "int64 int64 int64\n"
     ]
    },
    {
     "data": {
      "text/plain": [
       "array([1.25, 2.51, 3.11])"
      ]
     },
     "execution_count": 63,
     "metadata": {},
     "output_type": "execute_result"
    }
   ],
   "source": [
    "#Tips: \n",
    "# The usage of ndim, shape, dtype, astype\n",
    "#1. ndim use for check the dimension of the array.\n",
    "#2. shape use for check the shape for array or matrix, and dimensions\n",
    "#3. dtype use for check the data type of array, like int32 and float64(special in NumPy)\n",
    "# For example:\n",
    "d1 = np.array([1,2,3,4,5,6])\n",
    "d2 = np.array([[1,2,3],[4,5,6]])\n",
    "d3 = np.array([[[1,2,3],[4,5,6]],[[6,5,4],[3,2,1]]])\n",
    "print(d1.ndim, d2.ndim, d3.ndim)\n",
    "print(d1.shape, d2.shape, d3.shape)\n",
    "print(d1.dtype, d2.dtype, d3.dtype)\n",
    "#\n",
    "# For these results, \n",
    "# The shape of array d2 is one dimension, so it's only shows one value.\n",
    "# For shape the result is (dim, counts)\n",
    "# For three dimension matrix, the shape was checking for the entire matrix on the \n",
    "# direction Z, we can assum it like [A,B] and [C,D]\n",
    "#4. astype is use for changing the data type. For example:\n",
    "d1.astype('int32')\n",
    "\n",
    "#int32 -->float64 is fine\n",
    "#float64 --> int32 change to int\n",
    "#string_ --> float64 if the string is all number should be fine.\n",
    "str1 = np.array(['1.25','2.51','3.11'], dtype = np.string_)\n",
    "str1.astype('float64')\n",
    "#ref: https://blog.csdn.net/Da_wan/article/details/80518725"
   ]
  },
  {
   "cell_type": "code",
   "execution_count": 68,
   "metadata": {},
   "outputs": [
    {
     "name": "stdout",
     "output_type": "stream",
     "text": [
      "[ 6.4566327  -0.74469667 -6.69536589 -5.18325235  4.83731731  4.74430513\n",
      "  0.63969213 -1.47109274 -9.80034134 -2.03418578]\n",
      "[  7.  -1.  -7.  -6.   5.   5.   1.  -2. -10.  -3.]\n"
     ]
    }
   ],
   "source": [
    "#29 How to make truncation from 0 point of float.\n",
    "X = np.random.uniform(-10,+10,10)\n",
    "print(X)\n",
    "print(np.copysign(np.ceil(np.abs(X)),X))"
   ]
  },
  {
   "cell_type": "code",
   "execution_count": 69,
   "metadata": {},
   "outputs": [],
   "source": [
    "# Tips: random.uniform(a,b,c) means, array range is from a to b and has \n",
    "# counts as c.\n",
    "# np.abs for absolut value\n",
    "# np.ceil means return as int\n",
    "# np.copysign(a,b) means copy the sign from b to a\n",
    "# In this question, first find the absolute value, then make them int, and copy the sign from original X."
   ]
  },
  {
   "cell_type": "code",
   "execution_count": 74,
   "metadata": {},
   "outputs": [
    {
     "name": "stdout",
     "output_type": "stream",
     "text": [
      "[1 2 9]\n",
      "[6 2 9 4 1 9 7 6 4 9] [2 2 3 9 2 9 2 8 1 1]\n"
     ]
    }
   ],
   "source": [
    "#30 Find the same element from any two arrays.\n",
    "X1 = np.random.randint(0,10,10)\n",
    "X2 = np.random.randint(0,10,10)\n",
    "print(np.intersect1d(X1,X2))\n",
    "print(X1,X2)\n",
    "#Find the intersection."
   ]
  },
  {
   "cell_type": "code",
   "execution_count": null,
   "metadata": {},
   "outputs": [],
   "source": []
  }
 ],
 "metadata": {
  "kernelspec": {
   "display_name": "Python 3",
   "language": "python",
   "name": "python3"
  },
  "language_info": {
   "codemirror_mode": {
    "name": "ipython",
    "version": 3
   },
   "file_extension": ".py",
   "mimetype": "text/x-python",
   "name": "python",
   "nbconvert_exporter": "python",
   "pygments_lexer": "ipython3",
   "version": "3.7.6"
  }
 },
 "nbformat": 4,
 "nbformat_minor": 4
}
